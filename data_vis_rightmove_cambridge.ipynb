{
 "cells": [
  {
   "cell_type": "markdown",
   "id": "8c8c8996-2dcc-4e96-a345-d711297a7ddc",
   "metadata": {},
   "source": [
    "### The purpose of this project is to read the data that was scraped from the rightmove website and determine the average prices of the various kinds of properties that are currently on the market."
   ]
  },
  {
   "cell_type": "code",
   "execution_count": 1,
   "id": "1346cd61-8419-4d72-9b4b-2635c400ac93",
   "metadata": {},
   "outputs": [],
   "source": [
    "import pandas as pd\n",
    "import numpy as np\n",
    "import chardet\n",
    "import matplotlib.pyplot as plt"
   ]
  },
  {
   "cell_type": "code",
   "execution_count": 2,
   "id": "0026ce0a-d507-4783-b159-8ac541aad546",
   "metadata": {},
   "outputs": [],
   "source": [
    "csv = 'cambridge-for-sale.csv'"
   ]
  },
  {
   "cell_type": "code",
   "execution_count": 3,
   "id": "8198fb76-0107-4492-ad66-e03c223dba94",
   "metadata": {},
   "outputs": [],
   "source": [
    "housing = pd.read_csv(\n",
    "            csv, \n",
    "            encoding='Latin-1', # for the '£' sign in 'price'\n",
    "            header=0,\n",
    "            skip_blank_lines=True\n",
    "        )"
   ]
  },
  {
   "cell_type": "code",
   "execution_count": 4,
   "id": "533933a6-fd6d-4a59-ae9a-cb5deca14ae4",
   "metadata": {},
   "outputs": [
    {
     "data": {
      "text/html": [
       "<div>\n",
       "<style scoped>\n",
       "    .dataframe tbody tr th:only-of-type {\n",
       "        vertical-align: middle;\n",
       "    }\n",
       "\n",
       "    .dataframe tbody tr th {\n",
       "        vertical-align: top;\n",
       "    }\n",
       "\n",
       "    .dataframe thead th {\n",
       "        text-align: right;\n",
       "    }\n",
       "</style>\n",
       "<table border=\"1\" class=\"dataframe\">\n",
       "  <thead>\n",
       "    <tr style=\"text-align: right;\">\n",
       "      <th></th>\n",
       "      <th>title</th>\n",
       "      <th>address</th>\n",
       "      <th>price</th>\n",
       "      <th>seller</th>\n",
       "    </tr>\n",
       "  </thead>\n",
       "  <tbody>\n",
       "    <tr>\n",
       "      <th>0</th>\n",
       "      <td>Studio apartment for sale</td>\n",
       "      <td>Eddington Avenue,\\r\\r\\nCambridge,\\r\\r\\nCB3</td>\n",
       "      <td>£354,950</td>\n",
       "      <td>Hill Residential Limited</td>\n",
       "    </tr>\n",
       "    <tr>\n",
       "      <th>1</th>\n",
       "      <td>6 bedroom detached house for sale</td>\n",
       "      <td>Adams Road, Cambridge</td>\n",
       "      <td>£6,500,000</td>\n",
       "      <td>Bidwells, Cambridge</td>\n",
       "    </tr>\n",
       "    <tr>\n",
       "      <th>2</th>\n",
       "      <td>21 bedroom terraced house for sale</td>\n",
       "      <td>Milton Road, Cambridge</td>\n",
       "      <td>£4,800,000</td>\n",
       "      <td>haart, Cambridge</td>\n",
       "    </tr>\n",
       "    <tr>\n",
       "      <th>3</th>\n",
       "      <td>5 bedroom semi-detached house for sale</td>\n",
       "      <td>Lyndewode Road, Cambridge, Cambridgeshire</td>\n",
       "      <td>£3,500,000</td>\n",
       "      <td>The Modern House, London</td>\n",
       "    </tr>\n",
       "    <tr>\n",
       "      <th>4</th>\n",
       "      <td>4 bedroom detached house for sale</td>\n",
       "      <td>Barrow Road, Cambridge</td>\n",
       "      <td>£2,500,000</td>\n",
       "      <td>Bidwells, Cambridge</td>\n",
       "    </tr>\n",
       "  </tbody>\n",
       "</table>\n",
       "</div>"
      ],
      "text/plain": [
       "                                    title  \\\n",
       "0               Studio apartment for sale   \n",
       "1       6 bedroom detached house for sale   \n",
       "2      21 bedroom terraced house for sale   \n",
       "3  5 bedroom semi-detached house for sale   \n",
       "4       4 bedroom detached house for sale   \n",
       "\n",
       "                                      address       price  \\\n",
       "0  Eddington Avenue,\\r\\r\\nCambridge,\\r\\r\\nCB3    £354,950   \n",
       "1                       Adams Road, Cambridge  £6,500,000   \n",
       "2                      Milton Road, Cambridge  £4,800,000   \n",
       "3   Lyndewode Road, Cambridge, Cambridgeshire  £3,500,000   \n",
       "4                      Barrow Road, Cambridge  £2,500,000   \n",
       "\n",
       "                     seller  \n",
       "0  Hill Residential Limited  \n",
       "1       Bidwells, Cambridge  \n",
       "2          haart, Cambridge  \n",
       "3  The Modern House, London  \n",
       "4       Bidwells, Cambridge  "
      ]
     },
     "execution_count": 4,
     "metadata": {},
     "output_type": "execute_result"
    }
   ],
   "source": [
    "housing.head()"
   ]
  },
  {
   "cell_type": "code",
   "execution_count": 5,
   "id": "6144e2d4-d74e-44a2-9089-6a73d78f8d3d",
   "metadata": {},
   "outputs": [
    {
     "name": "stdout",
     "output_type": "stream",
     "text": [
      "<class 'pandas.core.frame.DataFrame'>\n",
      "RangeIndex: 475 entries, 0 to 474\n",
      "Data columns (total 4 columns):\n",
      " #   Column   Non-Null Count  Dtype \n",
      "---  ------   --------------  ----- \n",
      " 0   title    475 non-null    object\n",
      " 1   address  455 non-null    object\n",
      " 2   price    455 non-null    object\n",
      " 3   seller   455 non-null    object\n",
      "dtypes: object(4)\n",
      "memory usage: 15.0+ KB\n"
     ]
    }
   ],
   "source": [
    "housing.info()"
   ]
  },
  {
   "cell_type": "markdown",
   "id": "5023cde3-0078-4f7d-a01e-8a605221dce4",
   "metadata": {},
   "source": [
    "### Data Cleaning 1: Drop rows with no accurate information."
   ]
  },
  {
   "cell_type": "code",
   "execution_count": 6,
   "id": "b43c808b-2d7b-4c85-8b80-dc768d0efb8c",
   "metadata": {},
   "outputs": [
    {
     "data": {
      "text/plain": [
       "title       0\n",
       "address    20\n",
       "price      20\n",
       "seller     20\n",
       "dtype: int64"
      ]
     },
     "execution_count": 6,
     "metadata": {},
     "output_type": "execute_result"
    }
   ],
   "source": [
    "housing.isna().sum()"
   ]
  },
  {
   "cell_type": "code",
   "execution_count": 7,
   "id": "6943b436-30e5-404c-9121-26b1996a8b71",
   "metadata": {},
   "outputs": [
    {
     "data": {
      "text/html": [
       "<div>\n",
       "<style scoped>\n",
       "    .dataframe tbody tr th:only-of-type {\n",
       "        vertical-align: middle;\n",
       "    }\n",
       "\n",
       "    .dataframe tbody tr th {\n",
       "        vertical-align: top;\n",
       "    }\n",
       "\n",
       "    .dataframe thead th {\n",
       "        text-align: right;\n",
       "    }\n",
       "</style>\n",
       "<table border=\"1\" class=\"dataframe\">\n",
       "  <thead>\n",
       "    <tr style=\"text-align: right;\">\n",
       "      <th></th>\n",
       "      <th>title</th>\n",
       "      <th>address</th>\n",
       "      <th>price</th>\n",
       "      <th>seller</th>\n",
       "    </tr>\n",
       "  </thead>\n",
       "  <tbody>\n",
       "    <tr>\n",
       "      <th>455</th>\n",
       "      <td>Property</td>\n",
       "      <td>NaN</td>\n",
       "      <td>NaN</td>\n",
       "      <td>NaN</td>\n",
       "    </tr>\n",
       "    <tr>\n",
       "      <th>456</th>\n",
       "      <td>Property</td>\n",
       "      <td>NaN</td>\n",
       "      <td>NaN</td>\n",
       "      <td>NaN</td>\n",
       "    </tr>\n",
       "    <tr>\n",
       "      <th>457</th>\n",
       "      <td>Property</td>\n",
       "      <td>NaN</td>\n",
       "      <td>NaN</td>\n",
       "      <td>NaN</td>\n",
       "    </tr>\n",
       "    <tr>\n",
       "      <th>458</th>\n",
       "      <td>Property</td>\n",
       "      <td>NaN</td>\n",
       "      <td>NaN</td>\n",
       "      <td>NaN</td>\n",
       "    </tr>\n",
       "    <tr>\n",
       "      <th>459</th>\n",
       "      <td>Property</td>\n",
       "      <td>NaN</td>\n",
       "      <td>NaN</td>\n",
       "      <td>NaN</td>\n",
       "    </tr>\n",
       "    <tr>\n",
       "      <th>460</th>\n",
       "      <td>Property</td>\n",
       "      <td>NaN</td>\n",
       "      <td>NaN</td>\n",
       "      <td>NaN</td>\n",
       "    </tr>\n",
       "    <tr>\n",
       "      <th>461</th>\n",
       "      <td>Property</td>\n",
       "      <td>NaN</td>\n",
       "      <td>NaN</td>\n",
       "      <td>NaN</td>\n",
       "    </tr>\n",
       "    <tr>\n",
       "      <th>462</th>\n",
       "      <td>Property</td>\n",
       "      <td>NaN</td>\n",
       "      <td>NaN</td>\n",
       "      <td>NaN</td>\n",
       "    </tr>\n",
       "    <tr>\n",
       "      <th>463</th>\n",
       "      <td>Property</td>\n",
       "      <td>NaN</td>\n",
       "      <td>NaN</td>\n",
       "      <td>NaN</td>\n",
       "    </tr>\n",
       "    <tr>\n",
       "      <th>464</th>\n",
       "      <td>Property</td>\n",
       "      <td>NaN</td>\n",
       "      <td>NaN</td>\n",
       "      <td>NaN</td>\n",
       "    </tr>\n",
       "    <tr>\n",
       "      <th>465</th>\n",
       "      <td>Property</td>\n",
       "      <td>NaN</td>\n",
       "      <td>NaN</td>\n",
       "      <td>NaN</td>\n",
       "    </tr>\n",
       "    <tr>\n",
       "      <th>466</th>\n",
       "      <td>Property</td>\n",
       "      <td>NaN</td>\n",
       "      <td>NaN</td>\n",
       "      <td>NaN</td>\n",
       "    </tr>\n",
       "    <tr>\n",
       "      <th>467</th>\n",
       "      <td>Property</td>\n",
       "      <td>NaN</td>\n",
       "      <td>NaN</td>\n",
       "      <td>NaN</td>\n",
       "    </tr>\n",
       "    <tr>\n",
       "      <th>468</th>\n",
       "      <td>Property</td>\n",
       "      <td>NaN</td>\n",
       "      <td>NaN</td>\n",
       "      <td>NaN</td>\n",
       "    </tr>\n",
       "    <tr>\n",
       "      <th>469</th>\n",
       "      <td>Property</td>\n",
       "      <td>NaN</td>\n",
       "      <td>NaN</td>\n",
       "      <td>NaN</td>\n",
       "    </tr>\n",
       "    <tr>\n",
       "      <th>470</th>\n",
       "      <td>Property</td>\n",
       "      <td>NaN</td>\n",
       "      <td>NaN</td>\n",
       "      <td>NaN</td>\n",
       "    </tr>\n",
       "    <tr>\n",
       "      <th>471</th>\n",
       "      <td>Property</td>\n",
       "      <td>NaN</td>\n",
       "      <td>NaN</td>\n",
       "      <td>NaN</td>\n",
       "    </tr>\n",
       "    <tr>\n",
       "      <th>472</th>\n",
       "      <td>Property</td>\n",
       "      <td>NaN</td>\n",
       "      <td>NaN</td>\n",
       "      <td>NaN</td>\n",
       "    </tr>\n",
       "    <tr>\n",
       "      <th>473</th>\n",
       "      <td>Property</td>\n",
       "      <td>NaN</td>\n",
       "      <td>NaN</td>\n",
       "      <td>NaN</td>\n",
       "    </tr>\n",
       "    <tr>\n",
       "      <th>474</th>\n",
       "      <td>Property</td>\n",
       "      <td>NaN</td>\n",
       "      <td>NaN</td>\n",
       "      <td>NaN</td>\n",
       "    </tr>\n",
       "  </tbody>\n",
       "</table>\n",
       "</div>"
      ],
      "text/plain": [
       "        title address price seller\n",
       "455  Property     NaN   NaN    NaN\n",
       "456  Property     NaN   NaN    NaN\n",
       "457  Property     NaN   NaN    NaN\n",
       "458  Property     NaN   NaN    NaN\n",
       "459  Property     NaN   NaN    NaN\n",
       "460  Property     NaN   NaN    NaN\n",
       "461  Property     NaN   NaN    NaN\n",
       "462  Property     NaN   NaN    NaN\n",
       "463  Property     NaN   NaN    NaN\n",
       "464  Property     NaN   NaN    NaN\n",
       "465  Property     NaN   NaN    NaN\n",
       "466  Property     NaN   NaN    NaN\n",
       "467  Property     NaN   NaN    NaN\n",
       "468  Property     NaN   NaN    NaN\n",
       "469  Property     NaN   NaN    NaN\n",
       "470  Property     NaN   NaN    NaN\n",
       "471  Property     NaN   NaN    NaN\n",
       "472  Property     NaN   NaN    NaN\n",
       "473  Property     NaN   NaN    NaN\n",
       "474  Property     NaN   NaN    NaN"
      ]
     },
     "execution_count": 7,
     "metadata": {},
     "output_type": "execute_result"
    }
   ],
   "source": [
    "housing[housing['address'].isna()]"
   ]
  },
  {
   "cell_type": "markdown",
   "id": "75f0f36b-d3bb-4285-9e4f-093af299eaff",
   "metadata": {},
   "source": [
    "**It appears that properties starting at row 455 have no accurate information. We'll get rid of them.**"
   ]
  },
  {
   "cell_type": "code",
   "execution_count": 8,
   "id": "f891abea-a7a7-4316-bc86-55e8d7d95307",
   "metadata": {},
   "outputs": [
    {
     "name": "stdout",
     "output_type": "stream",
     "text": [
      "<class 'pandas.core.frame.DataFrame'>\n",
      "Int64Index: 455 entries, 0 to 454\n",
      "Data columns (total 4 columns):\n",
      " #   Column   Non-Null Count  Dtype \n",
      "---  ------   --------------  ----- \n",
      " 0   title    455 non-null    object\n",
      " 1   address  455 non-null    object\n",
      " 2   price    455 non-null    object\n",
      " 3   seller   455 non-null    object\n",
      "dtypes: object(4)\n",
      "memory usage: 17.8+ KB\n"
     ]
    }
   ],
   "source": [
    "housing = housing.dropna()\n",
    "housing.info()"
   ]
  },
  {
   "cell_type": "markdown",
   "id": "1bc388b5-9428-476c-a6ef-510554025a1e",
   "metadata": {},
   "source": [
    "### Data Cleaning 2: Extract 'type of property' from  'title'"
   ]
  },
  {
   "cell_type": "code",
   "execution_count": 9,
   "id": "3df5ba92-4ab2-446e-b7fa-25aee37fdc50",
   "metadata": {},
   "outputs": [
    {
     "data": {
      "text/plain": [
       "array(['Studio apartment for sale', '6 bedroom detached house for sale',\n",
       "       '21 bedroom terraced house for sale',\n",
       "       '5 bedroom semi-detached house for sale',\n",
       "       '4 bedroom detached house for sale',\n",
       "       '4 bedroom semi-detached house for sale',\n",
       "       '5 bedroom house for sale', '5 bedroom detached house for sale',\n",
       "       '5 bedroom end of terrace house for sale',\n",
       "       '5 bedroom terraced house for sale',\n",
       "       '5 bedroom town house for sale',\n",
       "       '3 bedroom semi-detached house for sale',\n",
       "       '4 bedroom terraced house for sale',\n",
       "       '4 bedroom town house for sale',\n",
       "       '2 bedroom terraced house for sale',\n",
       "       '4 bedroom end of terrace house for sale',\n",
       "       '3 bedroom end of terrace house for sale',\n",
       "       '3 bedroom apartment for sale',\n",
       "       '8 bedroom terraced house for sale',\n",
       "       '2 bedroom apartment for sale',\n",
       "       '3 bedroom terraced house for sale',\n",
       "       '3 bedroom detached house for sale', 'Plot for sale',\n",
       "       '2 bedroom town house for sale', '4 bedroom house for sale',\n",
       "       '7 bedroom semi-detached house for sale',\n",
       "       '2 bedroom flat for sale',\n",
       "       '2 bedroom semi-detached house for sale',\n",
       "       '2 bedroom maisonette for sale',\n",
       "       '6 bedroom semi-detached house for sale',\n",
       "       '2 bedroom semi-detached bungalow for sale',\n",
       "       '3 bedroom cottage for sale', '2 bedroom detached house for sale',\n",
       "       '3 bedroom flat for sale', '1 bedroom apartment for sale',\n",
       "       '3 bedroom duplex for sale',\n",
       "       '1 bedroom end of terrace house for sale',\n",
       "       '2 bedroom end of terrace house for sale',\n",
       "       '1 bedroom flat for sale', '1 bedroom terraced house for sale',\n",
       "       '1 bedroom semi-detached house for sale',\n",
       "       '1 bedroom detached house for sale',\n",
       "       '3 bedroom maisonette for sale',\n",
       "       '2 bedroom ground floor flat for sale',\n",
       "       '2 bedroom ground maisonette for sale',\n",
       "       '1 bedroom ground floor flat for sale',\n",
       "       '1 bedroom maisonette for sale', 'Studio flat for sale',\n",
       "       '2 bedroom retirement property for sale',\n",
       "       '1 bedroom house share for sale',\n",
       "       '1 bedroom retirement property for sale', 'Land for sale'],\n",
       "      dtype=object)"
      ]
     },
     "execution_count": 9,
     "metadata": {},
     "output_type": "execute_result"
    }
   ],
   "source": [
    "housing['title'].unique()"
   ]
  },
  {
   "cell_type": "code",
   "execution_count": 10,
   "id": "761fe88d-908d-4aa3-90e2-ea046bd90236",
   "metadata": {},
   "outputs": [],
   "source": [
    "housing['info'] = housing['title'].str.replace(' for sale','')"
   ]
  },
  {
   "cell_type": "code",
   "execution_count": 11,
   "id": "a771203a-c45e-45b5-8c84-0352152aef54",
   "metadata": {},
   "outputs": [
    {
     "data": {
      "text/plain": [
       "2 bedroom apartment                 74\n",
       "1 bedroom apartment                 47\n",
       "3 bedroom terraced house            35\n",
       "2 bedroom terraced house            28\n",
       "2 bedroom flat                      27\n",
       "1 bedroom flat                      22\n",
       "3 bedroom semi-detached house       22\n",
       "4 bedroom detached house            20\n",
       "3 bedroom end of terrace house      19\n",
       "4 bedroom terraced house            16\n",
       "3 bedroom detached house            12\n",
       "4 bedroom end of terrace house      10\n",
       "4 bedroom semi-detached house        9\n",
       "3 bedroom apartment                  9\n",
       "Studio apartment                     8\n",
       "4 bedroom town house                 8\n",
       "5 bedroom detached house             8\n",
       "Studio flat                          6\n",
       "5 bedroom semi-detached house        6\n",
       "1 bedroom retirement property        6\n",
       "5 bedroom terraced house             5\n",
       "2 bedroom semi-detached house        5\n",
       "5 bedroom house                      4\n",
       "5 bedroom town house                 4\n",
       "1 bedroom detached house             3\n",
       "2 bedroom maisonette                 3\n",
       "1 bedroom terraced house             3\n",
       "2 bedroom retirement property        2\n",
       "1 bedroom ground floor flat          2\n",
       "2 bedroom ground floor flat          2\n",
       "1 bedroom end of terrace house       2\n",
       "1 bedroom maisonette                 2\n",
       "Land                                 2\n",
       "2 bedroom detached house             2\n",
       "2 bedroom semi-detached bungalow     2\n",
       "5 bedroom end of terrace house       2\n",
       "Plot                                 2\n",
       "4 bedroom house                      2\n",
       "7 bedroom semi-detached house        1\n",
       "8 bedroom terraced house             1\n",
       "1 bedroom house share                1\n",
       "2 bedroom town house                 1\n",
       "2 bedroom ground maisonette          1\n",
       "3 bedroom maisonette                 1\n",
       "3 bedroom cottage                    1\n",
       "6 bedroom detached house             1\n",
       "1 bedroom semi-detached house        1\n",
       "6 bedroom semi-detached house        1\n",
       "21 bedroom terraced house            1\n",
       "2 bedroom end of terrace house       1\n",
       "3 bedroom duplex                     1\n",
       "3 bedroom flat                       1\n",
       "Name: info, dtype: int64"
      ]
     },
     "execution_count": 11,
     "metadata": {},
     "output_type": "execute_result"
    }
   ],
   "source": [
    "housing['info'].value_counts()"
   ]
  },
  {
   "cell_type": "markdown",
   "id": "a810f437-0db2-4fec-930f-17a1181eb9d7",
   "metadata": {},
   "source": [
    "**We will also take \"Land\" and \"Plot\" out of the dataset.**"
   ]
  },
  {
   "cell_type": "code",
   "execution_count": 12,
   "id": "491c26b5-ba01-49bd-9294-b958ff401857",
   "metadata": {},
   "outputs": [
    {
     "data": {
      "text/html": [
       "<div>\n",
       "<style scoped>\n",
       "    .dataframe tbody tr th:only-of-type {\n",
       "        vertical-align: middle;\n",
       "    }\n",
       "\n",
       "    .dataframe tbody tr th {\n",
       "        vertical-align: top;\n",
       "    }\n",
       "\n",
       "    .dataframe thead th {\n",
       "        text-align: right;\n",
       "    }\n",
       "</style>\n",
       "<table border=\"1\" class=\"dataframe\">\n",
       "  <thead>\n",
       "    <tr style=\"text-align: right;\">\n",
       "      <th></th>\n",
       "      <th>title</th>\n",
       "      <th>address</th>\n",
       "      <th>price</th>\n",
       "      <th>seller</th>\n",
       "      <th>info</th>\n",
       "    </tr>\n",
       "  </thead>\n",
       "  <tbody>\n",
       "    <tr>\n",
       "      <th>453</th>\n",
       "      <td>Land for sale</td>\n",
       "      <td>Land Leading to 60-68 Malvern Road, Cambridge,...</td>\n",
       "      <td>£10,000</td>\n",
       "      <td>Auction House London, Hampstead</td>\n",
       "      <td>Land</td>\n",
       "    </tr>\n",
       "    <tr>\n",
       "      <th>454</th>\n",
       "      <td>Land for sale</td>\n",
       "      <td>Land leading to 44-58 Malvern Road, Cambridge,...</td>\n",
       "      <td>£5,000</td>\n",
       "      <td>McHugh &amp; Co, London</td>\n",
       "      <td>Land</td>\n",
       "    </tr>\n",
       "  </tbody>\n",
       "</table>\n",
       "</div>"
      ],
      "text/plain": [
       "             title                                            address  \\\n",
       "453  Land for sale  Land Leading to 60-68 Malvern Road, Cambridge,...   \n",
       "454  Land for sale  Land leading to 44-58 Malvern Road, Cambridge,...   \n",
       "\n",
       "       price                           seller  info  \n",
       "453  £10,000  Auction House London, Hampstead  Land  \n",
       "454   £5,000              McHugh & Co, London  Land  "
      ]
     },
     "execution_count": 12,
     "metadata": {},
     "output_type": "execute_result"
    }
   ],
   "source": [
    "housing[housing['title'].str.contains('Land')]"
   ]
  },
  {
   "cell_type": "code",
   "execution_count": 13,
   "id": "9f68c645-ac58-48dd-add6-3ddf166f28a8",
   "metadata": {},
   "outputs": [
    {
     "data": {
      "text/html": [
       "<div>\n",
       "<style scoped>\n",
       "    .dataframe tbody tr th:only-of-type {\n",
       "        vertical-align: middle;\n",
       "    }\n",
       "\n",
       "    .dataframe tbody tr th {\n",
       "        vertical-align: top;\n",
       "    }\n",
       "\n",
       "    .dataframe thead th {\n",
       "        text-align: right;\n",
       "    }\n",
       "</style>\n",
       "<table border=\"1\" class=\"dataframe\">\n",
       "  <thead>\n",
       "    <tr style=\"text-align: right;\">\n",
       "      <th></th>\n",
       "      <th>title</th>\n",
       "      <th>address</th>\n",
       "      <th>price</th>\n",
       "      <th>seller</th>\n",
       "      <th>info</th>\n",
       "    </tr>\n",
       "  </thead>\n",
       "  <tbody>\n",
       "    <tr>\n",
       "      <th>71</th>\n",
       "      <td>Plot for sale</td>\n",
       "      <td>80 Campkin Road, Cambridge</td>\n",
       "      <td>£750,000</td>\n",
       "      <td>Bidwells, Cambridge New Homes</td>\n",
       "      <td>Plot</td>\n",
       "    </tr>\n",
       "    <tr>\n",
       "      <th>118</th>\n",
       "      <td>Plot for sale</td>\n",
       "      <td>Pearce Close, Cambridge, Cambridgeshire</td>\n",
       "      <td>£600,000</td>\n",
       "      <td>Bidwells, Cambridge</td>\n",
       "      <td>Plot</td>\n",
       "    </tr>\n",
       "  </tbody>\n",
       "</table>\n",
       "</div>"
      ],
      "text/plain": [
       "             title                                  address     price  \\\n",
       "71   Plot for sale               80 Campkin Road, Cambridge  £750,000   \n",
       "118  Plot for sale  Pearce Close, Cambridge, Cambridgeshire  £600,000   \n",
       "\n",
       "                            seller  info  \n",
       "71   Bidwells, Cambridge New Homes  Plot  \n",
       "118            Bidwells, Cambridge  Plot  "
      ]
     },
     "execution_count": 13,
     "metadata": {},
     "output_type": "execute_result"
    }
   ],
   "source": [
    "housing[housing['title'].str.contains('Plot')]"
   ]
  },
  {
   "cell_type": "code",
   "execution_count": 14,
   "id": "d703a31f-7f12-4af0-95b3-3ea6663fed5a",
   "metadata": {},
   "outputs": [],
   "source": [
    "housing = housing.drop([71, 118, 453,454])"
   ]
  },
  {
   "cell_type": "code",
   "execution_count": 15,
   "id": "6cfe0001-2798-4771-aaee-9135e6a8abb7",
   "metadata": {},
   "outputs": [
    {
     "data": {
      "text/plain": [
       "2 bedroom apartment                 74\n",
       "1 bedroom apartment                 47\n",
       "3 bedroom terraced house            35\n",
       "2 bedroom terraced house            28\n",
       "2 bedroom flat                      27\n",
       "1 bedroom flat                      22\n",
       "3 bedroom semi-detached house       22\n",
       "4 bedroom detached house            20\n",
       "3 bedroom end of terrace house      19\n",
       "4 bedroom terraced house            16\n",
       "3 bedroom detached house            12\n",
       "4 bedroom end of terrace house      10\n",
       "4 bedroom semi-detached house        9\n",
       "3 bedroom apartment                  9\n",
       "Studio apartment                     8\n",
       "4 bedroom town house                 8\n",
       "5 bedroom detached house             8\n",
       "Studio flat                          6\n",
       "5 bedroom semi-detached house        6\n",
       "1 bedroom retirement property        6\n",
       "5 bedroom terraced house             5\n",
       "2 bedroom semi-detached house        5\n",
       "5 bedroom town house                 4\n",
       "5 bedroom house                      4\n",
       "2 bedroom maisonette                 3\n",
       "1 bedroom detached house             3\n",
       "1 bedroom terraced house             3\n",
       "5 bedroom end of terrace house       2\n",
       "2 bedroom retirement property        2\n",
       "1 bedroom maisonette                 2\n",
       "1 bedroom ground floor flat          2\n",
       "2 bedroom ground floor flat          2\n",
       "1 bedroom end of terrace house       2\n",
       "2 bedroom detached house             2\n",
       "4 bedroom house                      2\n",
       "2 bedroom semi-detached bungalow     2\n",
       "8 bedroom terraced house             1\n",
       "2 bedroom ground maisonette          1\n",
       "1 bedroom house share                1\n",
       "2 bedroom town house                 1\n",
       "7 bedroom semi-detached house        1\n",
       "6 bedroom detached house             1\n",
       "3 bedroom maisonette                 1\n",
       "6 bedroom semi-detached house        1\n",
       "3 bedroom duplex                     1\n",
       "1 bedroom semi-detached house        1\n",
       "3 bedroom cottage                    1\n",
       "21 bedroom terraced house            1\n",
       "2 bedroom end of terrace house       1\n",
       "3 bedroom flat                       1\n",
       "Name: info, dtype: int64"
      ]
     },
     "execution_count": 15,
     "metadata": {},
     "output_type": "execute_result"
    }
   ],
   "source": [
    "housing['info'].value_counts()"
   ]
  },
  {
   "cell_type": "markdown",
   "id": "9b91bbd1-26e8-4d28-8b15-4a0fb7072a58",
   "metadata": {},
   "source": [
    "**We will now adjust the wording of 'studio apartment' and 'studio flat' to '1 bedroom flat'**"
   ]
  },
  {
   "cell_type": "code",
   "execution_count": 16,
   "id": "848510db-3b33-4d55-9ce5-0872f5fe1af9",
   "metadata": {},
   "outputs": [
    {
     "data": {
      "text/plain": [
       "array(['1 bedroom flat', '6 bedroom detached house',\n",
       "       '21 bedroom terraced house', '5 bedroom semi-detached house',\n",
       "       '4 bedroom detached house', '4 bedroom semi-detached house',\n",
       "       '5 bedroom house', '5 bedroom detached house',\n",
       "       '5 bedroom end of terrace house', '5 bedroom terraced house',\n",
       "       '5 bedroom town house', '3 bedroom semi-detached house',\n",
       "       '4 bedroom terraced house', '4 bedroom town house',\n",
       "       '2 bedroom terraced house', '4 bedroom end of terrace house',\n",
       "       '3 bedroom end of terrace house', '3 bedroom apartment',\n",
       "       '8 bedroom terraced house', '2 bedroom apartment',\n",
       "       '3 bedroom terraced house', '3 bedroom detached house',\n",
       "       '2 bedroom town house', '4 bedroom house',\n",
       "       '7 bedroom semi-detached house', '2 bedroom flat',\n",
       "       '2 bedroom semi-detached house', '2 bedroom maisonette',\n",
       "       '6 bedroom semi-detached house',\n",
       "       '2 bedroom semi-detached bungalow', '3 bedroom cottage',\n",
       "       '2 bedroom detached house', '3 bedroom flat',\n",
       "       '1 bedroom apartment', '3 bedroom duplex',\n",
       "       '1 bedroom end of terrace house', '2 bedroom end of terrace house',\n",
       "       '1 bedroom terraced house', '1 bedroom semi-detached house',\n",
       "       '1 bedroom detached house', '3 bedroom maisonette',\n",
       "       '2 bedroom ground floor flat', '2 bedroom ground maisonette',\n",
       "       '1 bedroom ground floor flat', '1 bedroom maisonette',\n",
       "       '2 bedroom retirement property', '1 bedroom house share',\n",
       "       '1 bedroom retirement property'], dtype=object)"
      ]
     },
     "execution_count": 16,
     "metadata": {},
     "output_type": "execute_result"
    }
   ],
   "source": [
    "mapping_dict = {\n",
    "    'Studio apartment': '1 bedroom flat',\n",
    "    'Studio flat': '1 bedroom flat',\n",
    "    }\n",
    "\n",
    "housing = housing.replace({'info': mapping_dict})\n",
    "\n",
    "housing['info'].unique()"
   ]
  },
  {
   "cell_type": "markdown",
   "id": "299753a1-ed8b-4c01-85bb-03886f78fd2e",
   "metadata": {},
   "source": [
    "**The number of bedrooms can now be split from the type of property.**"
   ]
  },
  {
   "cell_type": "code",
   "execution_count": 17,
   "id": "5329e6b9-2c96-4d79-ab45-dd5b2c0ae155",
   "metadata": {},
   "outputs": [
    {
     "data": {
      "text/plain": [
       "0       1 \n",
       "1       6 \n",
       "2      21 \n",
       "3       5 \n",
       "4       4 \n",
       "      ... \n",
       "448     1 \n",
       "449     1 \n",
       "450     2 \n",
       "451     1 \n",
       "452     1 \n",
       "Name: no_of_bedrooms, Length: 451, dtype: object"
      ]
     },
     "execution_count": 17,
     "metadata": {},
     "output_type": "execute_result"
    }
   ],
   "source": [
    "housing['no_of_bedrooms'] = housing['info'].str.split('bedroom').str[0]\n",
    "housing['no_of_bedrooms']"
   ]
  },
  {
   "cell_type": "code",
   "execution_count": 18,
   "id": "1f7ac5a7-d924-486e-b819-9fbc8e2892ea",
   "metadata": {},
   "outputs": [
    {
     "data": {
      "text/plain": [
       "apartment                 130\n",
       "terraced house             89\n",
       "flat                       64\n",
       "detached house             46\n",
       "semi-detached house        45\n",
       "end of terrace house       34\n",
       "town house                 13\n",
       "retirement property         8\n",
       "house                       6\n",
       "maisonette                  6\n",
       "ground floor flat           4\n",
       "semi-detached bungalow      2\n",
       "cottage                     1\n",
       "duplex                      1\n",
       "ground maisonette           1\n",
       "house share                 1\n",
       "Name: property_type, dtype: int64"
      ]
     },
     "execution_count": 18,
     "metadata": {},
     "output_type": "execute_result"
    }
   ],
   "source": [
    "housing['property_type'] = housing['info'].str.split('bedroom').str[1].str.strip()\n",
    "housing['property_type'].value_counts()"
   ]
  },
  {
   "cell_type": "markdown",
   "id": "70e856e6-c28a-438f-a232-8bb65600a285",
   "metadata": {},
   "source": [
    "#### 4 main types of property will be formed for our analysis.\n",
    "* Flats\n",
    "* Detached\n",
    "* Semi-detached\n",
    "* Terraced  \n",
    "\n",
    "**We will unify the various terms of flat in British English as 'flat'.**\n"
   ]
  },
  {
   "cell_type": "code",
   "execution_count": 19,
   "id": "3229bc4f-816b-4f26-a256-72ec5617377f",
   "metadata": {},
   "outputs": [
    {
     "data": {
      "text/plain": [
       "flat                      214\n",
       "terraced house             89\n",
       "detached house             46\n",
       "semi-detached house        45\n",
       "end of terrace house       34\n",
       "town house                 13\n",
       "house                       6\n",
       "semi-detached bungalow      2\n",
       "cottage                     1\n",
       "house share                 1\n",
       "Name: property_type, dtype: int64"
      ]
     },
     "execution_count": 19,
     "metadata": {},
     "output_type": "execute_result"
    }
   ],
   "source": [
    "mapping_dict = {'apartment': 'flat',\n",
    "              'duplex': 'flat',\n",
    "              'ground floor flat': 'flat',\n",
    "              'ground maisonette': 'flat',\n",
    "              'maisonette': 'flat',\n",
    "              'retirement property': 'flat',\n",
    "              'flat': 'flat'\n",
    "}\n",
    "\n",
    "housing = housing.replace({'property_type': mapping_dict})\n",
    "housing['property_type'].value_counts()"
   ]
  },
  {
   "cell_type": "markdown",
   "id": "9495cb32-b21b-4313-aea2-c430fe63f060",
   "metadata": {},
   "source": [
    "**'Cottages' and 'bungalows' will be categorised as 'detached houses'.**"
   ]
  },
  {
   "cell_type": "code",
   "execution_count": 20,
   "id": "ac5a5692-3970-4ee2-a90f-334f06bc8fb9",
   "metadata": {},
   "outputs": [
    {
     "data": {
      "text/plain": [
       "flat                    214\n",
       "terraced house           89\n",
       "detached house           49\n",
       "semi-detached house      45\n",
       "end of terrace house     34\n",
       "town house               13\n",
       "house                     6\n",
       "house share               1\n",
       "Name: property_type, dtype: int64"
      ]
     },
     "execution_count": 20,
     "metadata": {},
     "output_type": "execute_result"
    }
   ],
   "source": [
    "mapping_dict = {'cottage': 'detached house',\n",
    "              'semi-detached bungalow': 'detached house',\n",
    "}\n",
    "\n",
    "housing = housing.replace({'property_type': mapping_dict})\n",
    "housing['property_type'].value_counts()"
   ]
  },
  {
   "cell_type": "code",
   "execution_count": 21,
   "id": "10293f9b-4b44-4e7a-81b4-224744900b45",
   "metadata": {},
   "outputs": [
    {
     "data": {
      "text/html": [
       "<div>\n",
       "<style scoped>\n",
       "    .dataframe tbody tr th:only-of-type {\n",
       "        vertical-align: middle;\n",
       "    }\n",
       "\n",
       "    .dataframe tbody tr th {\n",
       "        vertical-align: top;\n",
       "    }\n",
       "\n",
       "    .dataframe thead th {\n",
       "        text-align: right;\n",
       "    }\n",
       "</style>\n",
       "<table border=\"1\" class=\"dataframe\">\n",
       "  <thead>\n",
       "    <tr style=\"text-align: right;\">\n",
       "      <th></th>\n",
       "      <th>title</th>\n",
       "      <th>address</th>\n",
       "      <th>price</th>\n",
       "      <th>seller</th>\n",
       "      <th>info</th>\n",
       "      <th>no_of_bedrooms</th>\n",
       "      <th>property_type</th>\n",
       "    </tr>\n",
       "  </thead>\n",
       "  <tbody>\n",
       "    <tr>\n",
       "      <th>6</th>\n",
       "      <td>5 bedroom house for sale</td>\n",
       "      <td>Athena At Knights Park, Eddington Avenue, Camb...</td>\n",
       "      <td>£1,999,950</td>\n",
       "      <td>Bidwells, Cambridge New Homes</td>\n",
       "      <td>5 bedroom house</td>\n",
       "      <td>5</td>\n",
       "      <td>house</td>\n",
       "    </tr>\n",
       "    <tr>\n",
       "      <th>52</th>\n",
       "      <td>5 bedroom house for sale</td>\n",
       "      <td>Trumpington Meadows, Hauxton Road, Trumpington</td>\n",
       "      <td>£909,995</td>\n",
       "      <td>Bidwells, Cambridge New Homes</td>\n",
       "      <td>5 bedroom house</td>\n",
       "      <td>5</td>\n",
       "      <td>house</td>\n",
       "    </tr>\n",
       "    <tr>\n",
       "      <th>53</th>\n",
       "      <td>5 bedroom house for sale</td>\n",
       "      <td>Chesterton Road, Cambridge, CB4</td>\n",
       "      <td>£900,000</td>\n",
       "      <td>Malcolms, Great Cambourne</td>\n",
       "      <td>5 bedroom house</td>\n",
       "      <td>5</td>\n",
       "      <td>house</td>\n",
       "    </tr>\n",
       "    <tr>\n",
       "      <th>59</th>\n",
       "      <td>5 bedroom house for sale</td>\n",
       "      <td>Trumpington Meadows, Hauxton Road, Trumpington</td>\n",
       "      <td>£804,995</td>\n",
       "      <td>Bidwells, Cambridge New Homes</td>\n",
       "      <td>5 bedroom house</td>\n",
       "      <td>5</td>\n",
       "      <td>house</td>\n",
       "    </tr>\n",
       "    <tr>\n",
       "      <th>76</th>\n",
       "      <td>4 bedroom house for sale</td>\n",
       "      <td>Trumpington Meadows, Hauxton Road, Trumpington</td>\n",
       "      <td>£749,995</td>\n",
       "      <td>Bidwells, Cambridge New Homes</td>\n",
       "      <td>4 bedroom house</td>\n",
       "      <td>4</td>\n",
       "      <td>house</td>\n",
       "    </tr>\n",
       "    <tr>\n",
       "      <th>77</th>\n",
       "      <td>4 bedroom house for sale</td>\n",
       "      <td>Trumpington Meadows, Hauxton Road, Trumpington</td>\n",
       "      <td>£749,995</td>\n",
       "      <td>Bidwells, Cambridge New Homes</td>\n",
       "      <td>4 bedroom house</td>\n",
       "      <td>4</td>\n",
       "      <td>house</td>\n",
       "    </tr>\n",
       "  </tbody>\n",
       "</table>\n",
       "</div>"
      ],
      "text/plain": [
       "                       title  \\\n",
       "6   5 bedroom house for sale   \n",
       "52  5 bedroom house for sale   \n",
       "53  5 bedroom house for sale   \n",
       "59  5 bedroom house for sale   \n",
       "76  4 bedroom house for sale   \n",
       "77  4 bedroom house for sale   \n",
       "\n",
       "                                              address       price  \\\n",
       "6   Athena At Knights Park, Eddington Avenue, Camb...  £1,999,950   \n",
       "52     Trumpington Meadows, Hauxton Road, Trumpington    £909,995   \n",
       "53                    Chesterton Road, Cambridge, CB4    £900,000   \n",
       "59     Trumpington Meadows, Hauxton Road, Trumpington    £804,995   \n",
       "76     Trumpington Meadows, Hauxton Road, Trumpington    £749,995   \n",
       "77     Trumpington Meadows, Hauxton Road, Trumpington    £749,995   \n",
       "\n",
       "                           seller             info no_of_bedrooms  \\\n",
       "6   Bidwells, Cambridge New Homes  5 bedroom house             5    \n",
       "52  Bidwells, Cambridge New Homes  5 bedroom house             5    \n",
       "53      Malcolms, Great Cambourne  5 bedroom house             5    \n",
       "59  Bidwells, Cambridge New Homes  5 bedroom house             5    \n",
       "76  Bidwells, Cambridge New Homes  4 bedroom house             4    \n",
       "77  Bidwells, Cambridge New Homes  4 bedroom house             4    \n",
       "\n",
       "   property_type  \n",
       "6          house  \n",
       "52         house  \n",
       "53         house  \n",
       "59         house  \n",
       "76         house  \n",
       "77         house  "
      ]
     },
     "execution_count": 21,
     "metadata": {},
     "output_type": "execute_result"
    }
   ],
   "source": [
    "housing[housing['property_type'] == 'house']"
   ]
  },
  {
   "cell_type": "markdown",
   "id": "61cde532-8961-4d39-a3d0-5315a5e2ad6a",
   "metadata": {},
   "source": [
    "**Some terrace houses have been categoried as 'House'.**\n",
    "\n",
    "**'end of terrace house', 'town house' and 'house' will be categorized as 'terraced house'**\n"
   ]
  },
  {
   "cell_type": "code",
   "execution_count": 22,
   "id": "e79e4471-941f-4413-be1a-8b9e4a302faf",
   "metadata": {},
   "outputs": [
    {
     "data": {
      "text/plain": [
       "flat                   214\n",
       "terraced house         142\n",
       "detached house          49\n",
       "semi-detached house     45\n",
       "house share              1\n",
       "Name: property_type, dtype: int64"
      ]
     },
     "execution_count": 22,
     "metadata": {},
     "output_type": "execute_result"
    }
   ],
   "source": [
    "mapping_dict = {'end of terrace house': 'terraced house',\n",
    "                'town house': 'terraced house',\n",
    "                'house': 'terraced house',\n",
    "}\n",
    "\n",
    "housing = housing.replace({'property_type': mapping_dict})\n",
    "housing['property_type'].value_counts()"
   ]
  },
  {
   "cell_type": "markdown",
   "id": "0c8c0dac-1481-4c0f-988d-a189c3014153",
   "metadata": {},
   "source": [
    "<b>Finally, drop the 'house share' property</b>"
   ]
  },
  {
   "cell_type": "code",
   "execution_count": 23,
   "id": "513a3dea-f1ad-4647-ba83-dea986615bcf",
   "metadata": {},
   "outputs": [
    {
     "data": {
      "text/plain": [
       "flat                   214\n",
       "terraced house         142\n",
       "detached house          49\n",
       "semi-detached house     45\n",
       "Name: property_type, dtype: int64"
      ]
     },
     "execution_count": 23,
     "metadata": {},
     "output_type": "execute_result"
    }
   ],
   "source": [
    "index = housing[housing['property_type'] == 'house share'].index\n",
    "\n",
    "housing.drop(index, inplace=True, axis=0)\n",
    "\n",
    "housing['property_type'].value_counts()"
   ]
  },
  {
   "cell_type": "code",
   "execution_count": 24,
   "id": "d72d1685-f31e-48f7-a68a-bdc3d04c2afb",
   "metadata": {},
   "outputs": [
    {
     "name": "stdout",
     "output_type": "stream",
     "text": [
      "<class 'pandas.core.frame.DataFrame'>\n",
      "Int64Index: 450 entries, 0 to 452\n",
      "Data columns (total 7 columns):\n",
      " #   Column          Non-Null Count  Dtype \n",
      "---  ------          --------------  ----- \n",
      " 0   title           450 non-null    object\n",
      " 1   address         450 non-null    object\n",
      " 2   price           450 non-null    object\n",
      " 3   seller          450 non-null    object\n",
      " 4   info            450 non-null    object\n",
      " 5   no_of_bedrooms  450 non-null    object\n",
      " 6   property_type   450 non-null    object\n",
      "dtypes: object(7)\n",
      "memory usage: 28.1+ KB\n"
     ]
    }
   ],
   "source": [
    "housing.info()"
   ]
  },
  {
   "cell_type": "markdown",
   "id": "d3d64511-5c58-4227-b2b6-23df64e7091f",
   "metadata": {},
   "source": [
    "<b>Convert 'price' column to 'integer'</b>"
   ]
  },
  {
   "cell_type": "code",
   "execution_count": 25,
   "id": "698a290a-ffd7-4d8c-ab32-1bcd891e829a",
   "metadata": {},
   "outputs": [
    {
     "data": {
      "text/plain": [
       "array(['£354,950', '£6,500,000', '£4,800,000', '£3,500,000', '£2,500,000',\n",
       "       '£1,999,950', '£1,850,000', '£1,800,000', '£1,750,000',\n",
       "       '£1,695,000', '£1,600,000', '£1,595,000', '£1,550,000',\n",
       "       '£1,450,000', '£1,400,000', '£1,350,000', '£1,300,000', '£495,000',\n",
       "       '£1,250,000', '£1,150,000', '£1,100,000', '£1,000,000', '£995,000',\n",
       "       '£975,000', '£950,000', '£914,995', '£424,995', '£909,995',\n",
       "       '£900,000', '£895,000', '£875,000', '£850,000', '£804,995',\n",
       "       '£800,000', '£799,995', '£795,000', '£775,000', '£760,000',\n",
       "       '£752,995', '£750,000', '£749,995', '£575,000', '£725,000',\n",
       "       '£715,000', '£709,950', '£700,000', 'Coming Soon', '£685,000',\n",
       "       '£675,000', '£600,000', '£650,000', '£627,000', '£625,000',\n",
       "       '£525,000', '£599,995', '£595,000', '£585,000', '£565,000',\n",
       "       '£560,000', '£550,000', '£549,950', '£535,000', '£450,000',\n",
       "       '£520,000', '£510,000', '£500,000', '£494,950', '£490,000',\n",
       "       '£485,000', '£480,000', '£475,000', '£465,000', '£459,950',\n",
       "       '£449,950', '£435,000', '£429,950', '£426,995', '£425,000',\n",
       "       '£350,000', '£423,995', '£420,000', '£419,995', '£250,000',\n",
       "       '£415,000', '£410,000', '£404,950', '£400,000', '£395,000',\n",
       "       '£390,000', '£389,950', '£385,000', '£382,500', '£379,950',\n",
       "       '£375,000', '£374,995', '£370,000', '£369,950', '£365,000',\n",
       "       '£359,500', '£355,000', '£349,950', '£345,000', '£339,950',\n",
       "       '£335,000', '£330,000', '£325,000', '£320,000', '£315,000',\n",
       "       '£310,000', '£300,000', '£299,950', '£295,000', '£290,000',\n",
       "       '£284,000', '£280,000', '£275,000', '£270,000', '£265,000',\n",
       "       '£260,000', '£255,000', '£245,000', '£240,000', '£235,000',\n",
       "       '£234,000', '£230,000', '£225,000', '£220,000', '£215,000',\n",
       "       '£189,995', '£185,000', '£184,950', '£180,000', '£175,000',\n",
       "       '£170,000', '£165,950', '£165,000', '£160,000', '£157,500',\n",
       "       '£155,000', '£153,000', '£150,000', '£135,000', '£132,000',\n",
       "       '£119,950', '£115,000', '£110,000', '£108,000', '£100,000',\n",
       "       '£97,500', '£80,000'], dtype=object)"
      ]
     },
     "execution_count": 25,
     "metadata": {},
     "output_type": "execute_result"
    }
   ],
   "source": [
    "housing['price'].unique()"
   ]
  },
  {
   "cell_type": "code",
   "execution_count": 26,
   "id": "094e57ec-49c3-4de0-a386-a6713e1cbfbc",
   "metadata": {},
   "outputs": [
    {
     "data": {
      "text/plain": [
       "flat                   214\n",
       "terraced house         142\n",
       "semi-detached house     44\n",
       "detached house          43\n",
       "Name: property_type, dtype: int64"
      ]
     },
     "execution_count": 26,
     "metadata": {},
     "output_type": "execute_result"
    }
   ],
   "source": [
    "#mapping_dict = {\n",
    "#    'Coming Soon': '£0'\n",
    "#}\n",
    "\n",
    "#housing = housing.replace ({'price': mapping_dict})\n",
    "#housing['price'].unique()\n",
    "\n",
    "index = housing[housing['price'] == 'Coming Soon'].index\n",
    "\n",
    "housing.drop(index, inplace=True, axis=0)\n",
    "\n",
    "housing['property_type'].value_counts()"
   ]
  },
  {
   "cell_type": "code",
   "execution_count": 27,
   "id": "c2d68325-78f8-44eb-a74c-d4161388339e",
   "metadata": {
    "tags": []
   },
   "outputs": [],
   "source": [
    "housing['price'] = housing['price'].replace('[£,]', '', regex=True).astype(int)"
   ]
  },
  {
   "cell_type": "code",
   "execution_count": 28,
   "id": "b0157bef-f999-48f4-995c-4568acb83705",
   "metadata": {},
   "outputs": [
    {
     "data": {
      "text/plain": [
       "array([ 354950, 6500000, 4800000, 3500000, 2500000, 1999950, 1850000,\n",
       "       1800000, 1750000, 1695000, 1600000, 1595000, 1550000, 1450000,\n",
       "       1400000, 1350000, 1300000,  495000, 1250000, 1150000, 1100000,\n",
       "       1000000,  995000,  975000,  950000,  914995,  424995,  909995,\n",
       "        900000,  895000,  875000,  850000,  804995,  800000,  799995,\n",
       "        795000,  775000,  760000,  752995,  750000,  749995,  575000,\n",
       "        725000,  715000,  709950,  700000,  685000,  675000,  600000,\n",
       "        650000,  627000,  625000,  525000,  599995,  595000,  585000,\n",
       "        565000,  560000,  550000,  549950,  535000,  450000,  520000,\n",
       "        510000,  500000,  494950,  490000,  485000,  480000,  475000,\n",
       "        465000,  459950,  449950,  435000,  429950,  426995,  425000,\n",
       "        350000,  423995,  420000,  419995,  250000,  415000,  410000,\n",
       "        404950,  400000,  395000,  390000,  389950,  385000,  382500,\n",
       "        379950,  375000,  374995,  370000,  369950,  365000,  359500,\n",
       "        355000,  349950,  345000,  339950,  335000,  330000,  325000,\n",
       "        320000,  315000,  310000,  300000,  299950,  295000,  290000,\n",
       "        284000,  280000,  275000,  270000,  265000,  260000,  255000,\n",
       "        245000,  240000,  235000,  234000,  230000,  225000,  220000,\n",
       "        215000,  189995,  185000,  184950,  180000,  175000,  170000,\n",
       "        165950,  165000,  160000,  157500,  155000,  153000,  150000,\n",
       "        135000,  132000,  119950,  115000,  110000,  108000,  100000,\n",
       "         97500,   80000])"
      ]
     },
     "execution_count": 28,
     "metadata": {},
     "output_type": "execute_result"
    }
   ],
   "source": [
    "housing['price'].unique()"
   ]
  },
  {
   "cell_type": "markdown",
   "id": "5b00b07f-385c-42c3-baf0-2b79bdecef78",
   "metadata": {},
   "source": [
    "<b>What's the average price for the different types of property?</b>"
   ]
  },
  {
   "cell_type": "code",
   "execution_count": 29,
   "id": "62024a8c-ce92-42dd-b6b9-b31e6878f63f",
   "metadata": {},
   "outputs": [],
   "source": [
    "grouped = housing.groupby('property_type').mean().sort_values(by=['price'], ascending=False).reset_index()"
   ]
  },
  {
   "cell_type": "code",
   "execution_count": 30,
   "id": "759e9e1b-d255-490e-afd2-eb6c05f1c6c4",
   "metadata": {},
   "outputs": [
    {
     "data": {
      "text/html": [
       "<div>\n",
       "<style scoped>\n",
       "    .dataframe tbody tr th:only-of-type {\n",
       "        vertical-align: middle;\n",
       "    }\n",
       "\n",
       "    .dataframe tbody tr th {\n",
       "        vertical-align: top;\n",
       "    }\n",
       "\n",
       "    .dataframe thead th {\n",
       "        text-align: right;\n",
       "    }\n",
       "</style>\n",
       "<table border=\"1\" class=\"dataframe\">\n",
       "  <thead>\n",
       "    <tr style=\"text-align: right;\">\n",
       "      <th></th>\n",
       "      <th>property_type</th>\n",
       "      <th>price</th>\n",
       "    </tr>\n",
       "  </thead>\n",
       "  <tbody>\n",
       "    <tr>\n",
       "      <th>0</th>\n",
       "      <td>detached house</td>\n",
       "      <td>1.031522e+06</td>\n",
       "    </tr>\n",
       "    <tr>\n",
       "      <th>1</th>\n",
       "      <td>semi-detached house</td>\n",
       "      <td>7.242940e+05</td>\n",
       "    </tr>\n",
       "    <tr>\n",
       "      <th>2</th>\n",
       "      <td>terraced house</td>\n",
       "      <td>6.985606e+05</td>\n",
       "    </tr>\n",
       "    <tr>\n",
       "      <th>3</th>\n",
       "      <td>flat</td>\n",
       "      <td>3.571824e+05</td>\n",
       "    </tr>\n",
       "  </tbody>\n",
       "</table>\n",
       "</div>"
      ],
      "text/plain": [
       "         property_type         price\n",
       "0       detached house  1.031522e+06\n",
       "1  semi-detached house  7.242940e+05\n",
       "2       terraced house  6.985606e+05\n",
       "3                 flat  3.571824e+05"
      ]
     },
     "execution_count": 30,
     "metadata": {},
     "output_type": "execute_result"
    }
   ],
   "source": [
    "grouped"
   ]
  },
  {
   "cell_type": "code",
   "execution_count": 40,
   "id": "f199f633-7249-4aa6-81ea-6f4a7b91c428",
   "metadata": {},
   "outputs": [
    {
     "data": {
      "image/png": "[encoded data removed]",
      "text/plain": [
       "<Figure size 432x288 with 1 Axes>"
      ]
     },
     "metadata": {
      "needs_background": "light"
     },
     "output_type": "display_data"
    }
   ],
   "source": [
    "fig, ax = plt.subplots()\n",
    "ax.bar(grouped['property_type'], grouped['price'], color='orange', width=0.6)\n",
    "plt.title('   Average prices of properties for sale in Cambridge (£)')\n",
    "plt.xticks(rotation=30)\n",
    "\n",
    "# specify the y labels\n",
    "ax.set_yticks([1000000 , 500000, 0])\n",
    "ax.set_yticklabels(['One million', '500k', '0'])\n",
    "\n",
    "# specifying horizontal line type\n",
    "plt.axhline(y = 500000, color = 'r', linestyle = '-')\n",
    "\n",
    "plt.show()"
   ]
  },
  {
   "cell_type": "code",
   "execution_count": null,
   "id": "ce80c7cf-10c1-452d-b85a-a7f2b99cee76",
   "metadata": {},
   "outputs": [],
   "source": []
  }
 ],
 "metadata": {
  "kernelspec": {
   "display_name": "Python 3 (ipykernel)",
   "language": "python",
   "name": "python3"
  },
  "language_info": {
   "codemirror_mode": {
    "name": "ipython",
    "version": 3
   },
   "file_extension": ".py",
   "mimetype": "text/x-python",
   "name": "python",
   "nbconvert_exporter": "python",
   "pygments_lexer": "ipython3",
   "version": "3.9.7"
  }
 },
 "nbformat": 4,
 "nbformat_minor": 5
}
