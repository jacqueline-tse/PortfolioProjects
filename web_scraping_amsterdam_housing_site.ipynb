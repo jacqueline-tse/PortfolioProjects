{
 "cells": [
  {
   "cell_type": "code",
   "execution_count": 1,
   "id": "8157fc16",
   "metadata": {},
   "outputs": [],
   "source": [
    "#pip install beautifulsoup4\n"
   ]
  },
  {
   "cell_type": "code",
   "execution_count": 2,
   "id": "608914a0",
   "metadata": {},
   "outputs": [],
   "source": [
    "#pip install requests\n"
   ]
  },
  {
   "cell_type": "code",
   "execution_count": 3,
   "id": "a1e08223",
   "metadata": {},
   "outputs": [],
   "source": [
    "###\n",
    "### Using BeautifulSoup to scrape a real estate agency website \n",
    "### and generaate a CSV file based on the findings.\n",
    "### \n",
    "\n",
    "# Import the libraries\n",
    "\n",
    "from bs4 import BeautifulSoup\n",
    "import requests\n",
    "from csv import writer\n"
   ]
  },
  {
   "cell_type": "code",
   "execution_count": 4,
   "id": "30ee17d8",
   "metadata": {},
   "outputs": [],
   "source": [
    "# Get the url for the next page, if any\n",
    "\n",
    "def get_next_url(soup):\n",
    "    next_url = ''\n",
    "\n",
    "    tag = soup.find('link', rel='next')\n",
    "    if tag:\n",
    "        next_url = tag.get('href')\n",
    "\n",
    "    return next_url"
   ]
  },
  {
   "cell_type": "code",
   "execution_count": 5,
   "id": "aca24843",
   "metadata": {},
   "outputs": [],
   "source": [
    "# Send a request to the webpage \n",
    "# and the content\n",
    "def get_web_page(url):\n",
    "    \n",
    "    page = requests.get (url)\n",
    "    \n",
    "    soup = BeautifulSoup(page.content, 'html.parser')\n",
    "\n",
    "    return soup\n",
    "\n",
    "# Let's get the section we're looking for\n",
    "def get_listings(soup):  \n",
    "\n",
    "    listings = soup.find_all('section', class_='listing-search-item')\n",
    "\n",
    "    # Loop through the 'listngs' \n",
    "    # - find 'title', 'price', 'surface area', etc.\n",
    "    for listing in listings:\n",
    "     \n",
    "        # Skip the \"Highlighted\" entries; they are displayed at the top of every page.\n",
    "        # If we keep them, we'll have duplicates that we'll need to get rid of.\n",
    "        if (listing.find('span', class_='listing-label--featured')):\n",
    "            continue\n",
    "        \n",
    "        title = listing.find('a', class_='listing-search-item__link--title').text.strip()\n",
    "        location = listing.find('div', class_='listing-search-item__sub-title').text.strip()\n",
    "        price = listing.find('div', class_='listing-search-item__price').text.strip()\n",
    "        surface_area = listing.find('li', class_='illustrated-features__item--surface-area').text.strip()\n",
    "        number_of_rooms = listing.find('li', class_='illustrated-features__item--number-of-rooms').text.strip()\n",
    "\n",
    "        # Write to the csv file\n",
    "        info = [title, location, price, surface_area, number_of_rooms]\n",
    "        the_writer.writerow (info)"
   ]
  },
  {
   "cell_type": "code",
   "execution_count": 6,
   "id": "b543fba9",
   "metadata": {},
   "outputs": [
    {
     "name": "stdout",
     "output_type": "stream",
     "text": [
      "Scraping https://www.pararius.com/apartments/amsterdam\n",
      "\n",
      "Scraping https://www.pararius.com/apartments/amsterdam/page-2\n",
      "\n",
      "Scraping https://www.pararius.com/apartments/amsterdam/page-3\n",
      "\n",
      "Scraping https://www.pararius.com/apartments/amsterdam/page-4\n",
      "\n",
      "Scraping https://www.pararius.com/apartments/amsterdam/page-5\n",
      "\n",
      "Scraping https://www.pararius.com/apartments/amsterdam/page-6\n",
      "\n",
      "Scraping https://www.pararius.com/apartments/amsterdam/page-7\n",
      "\n",
      "Scraping https://www.pararius.com/apartments/amsterdam/page-8\n",
      "\n",
      "Scraping https://www.pararius.com/apartments/amsterdam/page-9\n",
      "\n",
      "Scraping https://www.pararius.com/apartments/amsterdam/page-10\n",
      "\n",
      "Scraping https://www.pararius.com/apartments/amsterdam/page-11\n",
      "\n",
      "Scraping https://www.pararius.com/apartments/amsterdam/page-12\n",
      "\n",
      "Scraping https://www.pararius.com/apartments/amsterdam/page-13\n",
      "\n",
      "Scraping https://www.pararius.com/apartments/amsterdam/page-14\n",
      "\n",
      "Scraping https://www.pararius.com/apartments/amsterdam/page-15\n",
      "\n",
      "Scraping https://www.pararius.com/apartments/amsterdam/page-16\n",
      "\n",
      "Scraping https://www.pararius.com/apartments/amsterdam/page-17\n",
      "\n",
      "The End...\n"
     ]
    }
   ],
   "source": [
    "url = 'https://www.pararius.com/apartments/amsterdam'\n",
    "\n",
    "# Open the file in write mode\n",
    "f = open ('housing.csv', 'w', encoding='utf8', newline='')\n",
    "\n",
    "# Create the csv writer\n",
    "the_writer = writer(f)\n",
    "\n",
    "# Write the header row\n",
    "header = ['title', 'location', 'price', 'surface_area', 'number_of_rooms'] \n",
    "the_writer.writerow(header)\n",
    "    \n",
    "while (url):\n",
    "    \n",
    "    print('Scraping {}\\n'.format(url))\n",
    "    S = get_web_page(url)\n",
    "    get_listings(S)\n",
    "\n",
    "    url = get_next_url(S)\n",
    "\n",
    "# Close the csv file\n",
    "f.close()\n",
    "print('The End...')\n"
   ]
  }
 ],
 "metadata": {
  "kernelspec": {
   "display_name": "Python 3 (ipykernel)",
   "language": "python",
   "name": "python3"
  },
  "language_info": {
   "codemirror_mode": {
    "name": "ipython",
    "version": 3
   },
   "file_extension": ".py",
   "mimetype": "text/x-python",
   "name": "python",
   "nbconvert_exporter": "python",
   "pygments_lexer": "ipython3",
   "version": "3.9.7"
  }
 },
 "nbformat": 4,
 "nbformat_minor": 5
}
