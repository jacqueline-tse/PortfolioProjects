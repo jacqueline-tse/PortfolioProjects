{
 "cells": [
  {
   "cell_type": "markdown",
   "id": "093c2bf2",
   "metadata": {},
   "source": [
    "## World Covid data set from January 2020 to August 2022\n",
    "\n",
    "Dataset was downloaded from [here](https://ourworldindata.org/covid-deaths)\n",
    "\n",
    "Split the dataset into 2 sections:\n",
    "* death info\n",
    "* vaccinations info "
   ]
  },
  {
   "cell_type": "code",
   "execution_count": 1,
   "id": "3fcb5022",
   "metadata": {},
   "outputs": [
    {
     "name": "stdout",
     "output_type": "stream",
     "text": [
      "(208798, 67)\n",
      "iso_code                                    object\n",
      "continent                                   object\n",
      "location                                    object\n",
      "date                                        object\n",
      "total_cases                                float64\n",
      "                                            ...   \n",
      "human_development_index                    float64\n",
      "excess_mortality_cumulative_absolute       float64\n",
      "excess_mortality_cumulative                float64\n",
      "excess_mortality                           float64\n",
      "excess_mortality_cumulative_per_million    float64\n",
      "Length: 67, dtype: object\n"
     ]
    }
   ],
   "source": [
    "# import packages \n",
    "\n",
    "import pandas as pd\n",
    "import numpy as np\n",
    "\n",
    "# read the data\n",
    "df = pd.read_csv('covid-data.csv')\n",
    "\n",
    "\n",
    "# shape and datatypes of the data\n",
    "print(df.shape)\n",
    "print(df.dtypes)"
   ]
  },
  {
   "cell_type": "code",
   "execution_count": 2,
   "id": "ecb2f6ff",
   "metadata": {},
   "outputs": [
    {
     "name": "stdout",
     "output_type": "stream",
     "text": [
      "['iso_code' 'continent' 'location' 'date' 'tests_units']\n"
     ]
    }
   ],
   "source": [
    "# select non numeric columns\n",
    "df_non_numeric = df.select_dtypes(exclude=[np.number])\n",
    "non_numeric_cols = df_non_numeric.columns.values\n",
    "print(non_numeric_cols)"
   ]
  },
  {
   "cell_type": "code",
   "execution_count": 3,
   "id": "9440201b",
   "metadata": {},
   "outputs": [
    {
     "name": "stdout",
     "output_type": "stream",
     "text": [
      "['total_cases' 'new_cases' 'new_cases_smoothed' 'total_deaths'\n",
      " 'new_deaths' 'new_deaths_smoothed' 'total_cases_per_million'\n",
      " 'new_cases_per_million' 'new_cases_smoothed_per_million'\n",
      " 'total_deaths_per_million' 'new_deaths_per_million'\n",
      " 'new_deaths_smoothed_per_million' 'reproduction_rate' 'icu_patients'\n",
      " 'icu_patients_per_million' 'hosp_patients' 'hosp_patients_per_million'\n",
      " 'weekly_icu_admissions' 'weekly_icu_admissions_per_million'\n",
      " 'weekly_hosp_admissions' 'weekly_hosp_admissions_per_million'\n",
      " 'total_tests' 'new_tests' 'total_tests_per_thousand'\n",
      " 'new_tests_per_thousand' 'new_tests_smoothed'\n",
      " 'new_tests_smoothed_per_thousand' 'positive_rate' 'tests_per_case'\n",
      " 'total_vaccinations' 'people_vaccinated' 'people_fully_vaccinated'\n",
      " 'total_boosters' 'new_vaccinations' 'new_vaccinations_smoothed'\n",
      " 'total_vaccinations_per_hundred' 'people_vaccinated_per_hundred'\n",
      " 'people_fully_vaccinated_per_hundred' 'total_boosters_per_hundred'\n",
      " 'new_vaccinations_smoothed_per_million' 'new_people_vaccinated_smoothed'\n",
      " 'new_people_vaccinated_smoothed_per_hundred' 'stringency_index'\n",
      " 'population' 'population_density' 'median_age' 'aged_65_older'\n",
      " 'aged_70_older' 'gdp_per_capita' 'extreme_poverty'\n",
      " 'cardiovasc_death_rate' 'diabetes_prevalence' 'female_smokers'\n",
      " 'male_smokers' 'handwashing_facilities' 'hospital_beds_per_thousand'\n",
      " 'life_expectancy' 'human_development_index'\n",
      " 'excess_mortality_cumulative_absolute' 'excess_mortality_cumulative'\n",
      " 'excess_mortality' 'excess_mortality_cumulative_per_million']\n"
     ]
    }
   ],
   "source": [
    "# select numeric columns\n",
    "df_numeric = df.select_dtypes(include=[np.number])\n",
    "numeric_cols = df_numeric.columns.values\n",
    "print(numeric_cols)\n"
   ]
  },
  {
   "cell_type": "code",
   "execution_count": 4,
   "id": "ae2a487a",
   "metadata": {},
   "outputs": [],
   "source": [
    "# Create new dataframe with selected death related columns\n",
    "\n",
    "column_names = ['iso_code','continent','location','date',\n",
    "                'population',\n",
    "                'total_cases','new_cases','new_cases_smoothed','total_deaths',\n",
    "                'new_deaths','new_deaths_smoothed',\n",
    "                'total_cases_per_million',\n",
    "                'new_cases_per_million','new_cases_smoothed_per_million',\n",
    "                'total_deaths_per_million','new_deaths_per_million', 'new_deaths_smoothed_per_million',\n",
    "                'reproduction_rate',\n",
    "                'icu_patients', 'icu_patients_per_million',\n",
    "                'hosp_patients','hosp_patients_per_million',\n",
    "                'weekly_icu_admissions','weekly_icu_admissions_per_million',\n",
    "                'weekly_hosp_admissions','weekly_hosp_admissions_per_million']\n",
    "\n",
    "df_death = df.loc[:, column_names]"
   ]
  },
  {
   "cell_type": "code",
   "execution_count": 5,
   "id": "4dfde52f",
   "metadata": {},
   "outputs": [
    {
     "name": "stdout",
     "output_type": "stream",
     "text": [
      "  iso_code continent     location        date  population  total_cases  \\\n",
      "0      AFG      Asia  Afghanistan  2020-02-24  40099462.0          5.0   \n",
      "1      AFG      Asia  Afghanistan  2020-02-25  40099462.0          5.0   \n",
      "2      AFG      Asia  Afghanistan  2020-02-26  40099462.0          5.0   \n",
      "3      AFG      Asia  Afghanistan  2020-02-27  40099462.0          5.0   \n",
      "4      AFG      Asia  Afghanistan  2020-02-28  40099462.0          5.0   \n",
      "\n",
      "   new_cases  new_cases_smoothed  total_deaths  new_deaths  ...  \\\n",
      "0        5.0                 NaN           NaN         NaN  ...   \n",
      "1        0.0                 NaN           NaN         NaN  ...   \n",
      "2        0.0                 NaN           NaN         NaN  ...   \n",
      "3        0.0                 NaN           NaN         NaN  ...   \n",
      "4        0.0                 NaN           NaN         NaN  ...   \n",
      "\n",
      "   new_deaths_smoothed_per_million  reproduction_rate  icu_patients  \\\n",
      "0                              NaN                NaN           NaN   \n",
      "1                              NaN                NaN           NaN   \n",
      "2                              NaN                NaN           NaN   \n",
      "3                              NaN                NaN           NaN   \n",
      "4                              NaN                NaN           NaN   \n",
      "\n",
      "   icu_patients_per_million  hosp_patients  hosp_patients_per_million  \\\n",
      "0                       NaN            NaN                        NaN   \n",
      "1                       NaN            NaN                        NaN   \n",
      "2                       NaN            NaN                        NaN   \n",
      "3                       NaN            NaN                        NaN   \n",
      "4                       NaN            NaN                        NaN   \n",
      "\n",
      "   weekly_icu_admissions  weekly_icu_admissions_per_million  \\\n",
      "0                    NaN                                NaN   \n",
      "1                    NaN                                NaN   \n",
      "2                    NaN                                NaN   \n",
      "3                    NaN                                NaN   \n",
      "4                    NaN                                NaN   \n",
      "\n",
      "   weekly_hosp_admissions  weekly_hosp_admissions_per_million  \n",
      "0                     NaN                                 NaN  \n",
      "1                     NaN                                 NaN  \n",
      "2                     NaN                                 NaN  \n",
      "3                     NaN                                 NaN  \n",
      "4                     NaN                                 NaN  \n",
      "\n",
      "[5 rows x 26 columns]\n"
     ]
    }
   ],
   "source": [
    "print (df_death.head())"
   ]
  },
  {
   "cell_type": "code",
   "execution_count": 6,
   "id": "4b0707f7",
   "metadata": {},
   "outputs": [
    {
     "name": "stdout",
     "output_type": "stream",
     "text": [
      "<class 'pandas.core.frame.DataFrame'>\n"
     ]
    }
   ],
   "source": [
    "print(type(df_death))"
   ]
  },
  {
   "cell_type": "code",
   "execution_count": 7,
   "id": "7f99f9b2",
   "metadata": {},
   "outputs": [
    {
     "name": "stdout",
     "output_type": "stream",
     "text": [
      "(208798, 26)\n",
      "iso_code                               object\n",
      "continent                              object\n",
      "location                               object\n",
      "date                                   object\n",
      "population                            float64\n",
      "total_cases                           float64\n",
      "new_cases                             float64\n",
      "new_cases_smoothed                    float64\n",
      "total_deaths                          float64\n",
      "new_deaths                            float64\n",
      "new_deaths_smoothed                   float64\n",
      "total_cases_per_million               float64\n",
      "new_cases_per_million                 float64\n",
      "new_cases_smoothed_per_million        float64\n",
      "total_deaths_per_million              float64\n",
      "new_deaths_per_million                float64\n",
      "new_deaths_smoothed_per_million       float64\n",
      "reproduction_rate                     float64\n",
      "icu_patients                          float64\n",
      "icu_patients_per_million              float64\n",
      "hosp_patients                         float64\n",
      "hosp_patients_per_million             float64\n",
      "weekly_icu_admissions                 float64\n",
      "weekly_icu_admissions_per_million     float64\n",
      "weekly_hosp_admissions                float64\n",
      "weekly_hosp_admissions_per_million    float64\n",
      "dtype: object\n"
     ]
    }
   ],
   "source": [
    "# shape and datatypes of the data\n",
    "print(df_death.shape)\n",
    "print(df_death.dtypes)"
   ]
  },
  {
   "cell_type": "code",
   "execution_count": 8,
   "id": "7bce14d4",
   "metadata": {},
   "outputs": [
    {
     "name": "stdout",
     "output_type": "stream",
     "text": [
      "<class 'pandas.core.frame.DataFrame'>\n",
      "RangeIndex: 208798 entries, 0 to 208797\n",
      "Data columns (total 26 columns):\n",
      " #   Column                              Non-Null Count   Dtype  \n",
      "---  ------                              --------------   -----  \n",
      " 0   iso_code                            208798 non-null  object \n",
      " 1   continent                           196736 non-null  object \n",
      " 2   location                            208798 non-null  object \n",
      " 3   date                                208798 non-null  object \n",
      " 4   population                          207561 non-null  float64\n",
      " 5   total_cases                         200303 non-null  float64\n",
      " 6   new_cases                           199943 non-null  float64\n",
      " 7   new_cases_smoothed                  198766 non-null  float64\n",
      " 8   total_deaths                        181503 non-null  float64\n",
      " 9   new_deaths                          181458 non-null  float64\n",
      " 10  new_deaths_smoothed                 180286 non-null  float64\n",
      " 11  total_cases_per_million             199383 non-null  float64\n",
      " 12  new_cases_per_million               199023 non-null  float64\n",
      " 13  new_cases_smoothed_per_million      197851 non-null  float64\n",
      " 14  total_deaths_per_million            180596 non-null  float64\n",
      " 15  new_deaths_per_million              180551 non-null  float64\n",
      " 16  new_deaths_smoothed_per_million     179384 non-null  float64\n",
      " 17  reproduction_rate                   156558 non-null  float64\n",
      " 18  icu_patients                        27533 non-null   float64\n",
      " 19  icu_patients_per_million            27533 non-null   float64\n",
      " 20  hosp_patients                       29444 non-null   float64\n",
      " 21  hosp_patients_per_million           29444 non-null   float64\n",
      " 22  weekly_icu_admissions               6839 non-null    float64\n",
      " 23  weekly_icu_admissions_per_million   6839 non-null    float64\n",
      " 24  weekly_hosp_admissions              13550 non-null   float64\n",
      " 25  weekly_hosp_admissions_per_million  13550 non-null   float64\n",
      "dtypes: float64(22), object(4)\n",
      "memory usage: 41.4+ MB\n"
     ]
    }
   ],
   "source": [
    "df_death.info()"
   ]
  },
  {
   "cell_type": "code",
   "execution_count": 9,
   "id": "601088ac",
   "metadata": {},
   "outputs": [],
   "source": [
    "df_death = df_death.fillna(0)"
   ]
  },
  {
   "cell_type": "code",
   "execution_count": 10,
   "id": "7301cc13",
   "metadata": {},
   "outputs": [],
   "source": [
    "# saving the dataframe\n",
    "df_death.to_csv('covidDeaths.csv')"
   ]
  },
  {
   "cell_type": "code",
   "execution_count": 11,
   "id": "3a12993c",
   "metadata": {},
   "outputs": [],
   "source": [
    "# Create new dataframe with selected vaccination related columns\n",
    "\n",
    "column_names = ['iso_code','continent','location','date',\n",
    "                'population',\n",
    "                'total_tests','new_tests','total_tests_per_thousand',\n",
    "                'new_tests_per_thousand','new_tests_smoothed',\n",
    "                'new_tests_smoothed_per_thousand','positive_rate','tests_per_case',\n",
    "                'total_vaccinations','people_vaccinated','people_fully_vaccinated',\n",
    "                'total_boosters','new_vaccinations','new_vaccinations_smoothed',\n",
    "                'total_vaccinations_per_hundred','people_vaccinated_per_hundred',\n",
    "                'people_fully_vaccinated_per_hundred','total_boosters_per_hundred',\n",
    "                'new_vaccinations_smoothed_per_million','new_people_vaccinated_smoothed',\n",
    "                'new_people_vaccinated_smoothed_per_hundred','stringency_index',\n",
    "                'population_density','median_age','aged_65_older',\n",
    "                'aged_70_older','gdp_per_capita','extreme_poverty',\n",
    "                'cardiovasc_death_rate','diabetes_prevalence','female_smokers',\n",
    "                'male_smokers','handwashing_facilities','hospital_beds_per_thousand',\n",
    "                'life_expectancy','human_development_index',\n",
    "                'excess_mortality_cumulative_absolute','excess_mortality_cumulative',\n",
    "                'excess_mortality','excess_mortality_cumulative_per_million']\n",
    "\n",
    "df_vaccinations = df.loc[:, column_names]"
   ]
  },
  {
   "cell_type": "code",
   "execution_count": 12,
   "id": "aa561cc7",
   "metadata": {},
   "outputs": [],
   "source": [
    "df_vaccinations = df_vaccinations.fillna(0)"
   ]
  },
  {
   "cell_type": "code",
   "execution_count": 13,
   "id": "939c935a",
   "metadata": {},
   "outputs": [],
   "source": [
    "# saving the dataframe\n",
    "df_vaccinations.to_csv('covidVaccinations.csv')"
   ]
  }
 ],
 "metadata": {
  "kernelspec": {
   "display_name": "Python 3 (ipykernel)",
   "language": "python",
   "name": "python3"
  },
  "language_info": {
   "codemirror_mode": {
    "name": "ipython",
    "version": 3
   },
   "file_extension": ".py",
   "mimetype": "text/x-python",
   "name": "python",
   "nbconvert_exporter": "python",
   "pygments_lexer": "ipython3",
   "version": "3.9.7"
  }
 },
 "nbformat": 4,
 "nbformat_minor": 5
}
